{
 "cells": [
  {
   "cell_type": "code",
   "execution_count": null,
   "metadata": {
    "collapsed": false
   },
   "outputs": [],
   "source": [
    "import pandas\n",
    "import numpy as np\n",
    "from ipywidgets import *\n",
    "import sqlalchemy "
   ]
  },
  {
   "cell_type": "code",
   "execution_count": null,
   "metadata": {
    "collapsed": false
   },
   "outputs": [],
   "source": [
    "groupdata = \"Group Level Data.xlsx\"\n",
    "disk_engine = sqlalchemy.create_engine('sqlite:///311_8M.db')"
   ]
  },
  {
   "cell_type": "code",
   "execution_count": null,
   "metadata": {
    "collapsed": false
   },
   "outputs": [],
   "source": [
    "all_ = pandas.read_excel(groupdata,encoding='utf-8')\n",
    "group_pd = all_.loc[:,'Status':'Choice'] \n",
    "\n",
    "group_pd = group_pd.apply(lambda x: (x - np.mean(x)) / (np.max(x) - np.min(x) ))\n",
    "group_pd['Demographic'] = all_.Group\n",
    "[(r, type(r)) for r in group_pd.columns]"
   ]
  },
  {
   "cell_type": "code",
   "execution_count": null,
   "metadata": {
    "collapsed": false
   },
   "outputs": [],
   "source": [
    "# Load table to SQL\n",
    "\n",
    "def try_load():\n",
    "    try:\n",
    "        pandas.read_sql_query('''DROP TABLE StaIdeConv''',  disk_engine)\n",
    "    \n",
    "    except Exception as  e:\n",
    "        print type(e), e\n",
    "    try:\n",
    "        group_pd.to_sql('StaIdeConv', disk_engine)\n",
    "    except Exception as  e:\n",
    "        print type(e), e\n",
    "        \n",
    "try_load()\n",
    "\n"
   ]
  },
  {
   "cell_type": "code",
   "execution_count": null,
   "metadata": {
    "collapsed": false
   },
   "outputs": [],
   "source": [
    "S = pandas.read_sql_query('''\n",
    "SELECT ROUND(Status,2) as 'Status', Demographic FROM StaIdeConv\n",
    "ORDER BY Status Desc\n",
    "\n",
    "''',  disk_engine)\n",
    "\n",
    "S\n",
    "\n",
    "C = pandas.read_sql_query('''\n",
    "SELECT ROUND(Choice,2) as 'Choice', Demographic FROM StaIdeConv\n",
    "ORDER BY Choice Desc\n",
    "\n",
    "''',  disk_engine)\n",
    "C\n",
    "\n",
    "\n",
    "SC = pandas.read_sql_query('''\n",
    "SELECT Status, Ideology, Conventionalism, Choice, Demographic FROM StaIdeConv\n",
    "ORDER BY Demographic Asc\n",
    "\n",
    "''',  disk_engine)\n",
    "C"
   ]
  },
  {
   "cell_type": "code",
   "execution_count": null,
   "metadata": {
    "collapsed": false
   },
   "outputs": [],
   "source": [
    "import seaborn as sns\n",
    "\n",
    "import pylab\n",
    "sns.set()\n",
    "\n",
    "\n",
    "import matplotlib.pyplot as plt\n",
    "grid = sns.pairplot(SC,  markers='D', palette= 'deep', diag_kind='kde')\n",
    "# g = sns.PairGrid(SC,palette= sns.palplot(sns.cubehelix_palette(8)),hue=\"Demographic\")\n",
    "# g.map_upper(plt.scatter)\n",
    "# g.map_lower(sns.kdeplot, cmap=\"Blues_d\",hue=\"Type\")\n",
    "# g.map_diag(sns.kdeplot, legend=True);\n",
    "sns.plt.show()\n"
   ]
  },
  {
   "cell_type": "code",
   "execution_count": null,
   "metadata": {
    "collapsed": false
   },
   "outputs": [],
   "source": [
    "Gr = [g for g in group_pd['Demographic'] ]"
   ]
  },
  {
   "cell_type": "code",
   "execution_count": null,
   "metadata": {
    "collapsed": false
   },
   "outputs": [],
   "source": [
    "a = SelectMultiple(\n",
    "    width = 900,\n",
    "    description=\"You\",\n",
    "    options= Gr\n",
    "    \n",
    ")\n",
    "a"
   ]
  },
  {
   "cell_type": "code",
   "execution_count": null,
   "metadata": {
    "collapsed": false
   },
   "outputs": [],
   "source": [
    "df = group_pd[group_pd['Demographic'].isin(a.value)]\n",
    "df"
   ]
  },
  {
   "cell_type": "code",
   "execution_count": null,
   "metadata": {
    "collapsed": false
   },
   "outputs": [],
   "source": [
    "def denorm(n):\n",
    "    return str( round( n.mean()*100,1)) + \"%\"\n"
   ]
  },
  {
   "cell_type": "code",
   "execution_count": null,
   "metadata": {
    "collapsed": false
   },
   "outputs": [],
   "source": [
    "\n",
    "\n",
    "print 'You Selected: '\n",
    "print ', '.join([str(i) for (i) in a.value])\n",
    "print 'Status', denorm(df.Status)\n",
    "print 'Ideology', denorm(df.Ideology)\n",
    "print 'Conventionalism', denorm(df.Conventionalism)\n",
    "print 'Choice', denorm(df.Choice)\n"
   ]
  },
  {
   "cell_type": "code",
   "execution_count": null,
   "metadata": {
    "collapsed": false
   },
   "outputs": [],
   "source": []
  }
 ],
 "metadata": {
  "anaconda-cloud": {},
  "kernelspec": {
   "display_name": "Python [Root]",
   "language": "python",
   "name": "Python [Root]"
  },
  "language_info": {
   "codemirror_mode": {
    "name": "ipython",
    "version": 2
   },
   "file_extension": ".py",
   "mimetype": "text/x-python",
   "name": "python",
   "nbconvert_exporter": "python",
   "pygments_lexer": "ipython2",
   "version": "2.7.12"
  },
  "widgets": {
   "state": {
    "5f00b708b4e7487a8850d882dfb66254": {
     "views": [
      {
       "cell_index": 7
      }
     ]
    }
   },
   "version": "1.2.0"
  }
 },
 "nbformat": 4,
 "nbformat_minor": 0
}
