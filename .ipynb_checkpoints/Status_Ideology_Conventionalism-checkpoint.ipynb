{
 "cells": [
  {
   "cell_type": "code",
   "execution_count": 1,
   "metadata": {
    "collapsed": false
   },
   "outputs": [],
   "source": [
    "import pandas\n",
    "import numpy as np\n",
    "from ipywidgets import *\n",
    "import sqlalchemy "
   ]
  },
  {
   "cell_type": "code",
   "execution_count": 2,
   "metadata": {
    "collapsed": false
   },
   "outputs": [],
   "source": [
    "groupdata = \"Group Level Data.xlsx\"\n",
    "disk_engine = sqlalchemy.create_engine('sqlite:///myStatusDB.db')"
   ]
  },
  {
   "cell_type": "code",
   "execution_count": 3,
   "metadata": {
    "collapsed": false
   },
   "outputs": [
    {
     "data": {
      "text/plain": [
       "['Status', 'Ideology', 'Conventionalism', 'Choice', 'Demographic']"
      ]
     },
     "execution_count": 3,
     "metadata": {},
     "output_type": "execute_result"
    }
   ],
   "source": [
    "all_ = pandas.read_excel(groupdata,encoding='utf-8')\n",
    "group_pd = all_.loc[:,'Status':'Choice'] \n",
    "group_pd = group_pd.apply(lambda x: (x - np.mean(x)) / (np.max(x) - np.min(x) ))\n",
    "group_pd['Demographic'] = all_.Group\n",
    "\n",
    "[str(c) for c in  group_pd.columns.values]"
   ]
  },
  {
   "cell_type": "code",
   "execution_count": 4,
   "metadata": {
    "collapsed": false
   },
   "outputs": [],
   "source": [
    "# Load table to SQL\n",
    "\n",
    "def try_load():\n",
    "    try:\n",
    "        pandas.read_sql_query('''DROP TABLE StaIdeConv''',  disk_engine)\n",
    "    \n",
    "    except Exception as  e:\n",
    "#         print type(e), e\n",
    "        pass\n",
    "    try:\n",
    "        group_pd.to_sql('StaIdeConv', disk_engine)\n",
    "    except Exception as  e:\n",
    "#         print type(e), e\n",
    "        pass\n",
    "        \n",
    "try_load()\n"
   ]
  },
  {
   "cell_type": "code",
   "execution_count": 5,
   "metadata": {
    "collapsed": false
   },
   "outputs": [
    {
     "data": {
      "text/html": [
       "<div>\n",
       "<table border=\"1\" class=\"dataframe\">\n",
       "  <thead>\n",
       "    <tr style=\"text-align: right;\">\n",
       "      <th></th>\n",
       "      <th>Status</th>\n",
       "      <th>Demographic</th>\n",
       "    </tr>\n",
       "  </thead>\n",
       "  <tbody>\n",
       "    <tr>\n",
       "      <th>0</th>\n",
       "      <td>0.54</td>\n",
       "      <td>Rich People</td>\n",
       "    </tr>\n",
       "    <tr>\n",
       "      <th>1</th>\n",
       "      <td>0.43</td>\n",
       "      <td>Big Business</td>\n",
       "    </tr>\n",
       "    <tr>\n",
       "      <th>2</th>\n",
       "      <td>0.26</td>\n",
       "      <td>Whites</td>\n",
       "    </tr>\n",
       "    <tr>\n",
       "      <th>3</th>\n",
       "      <td>0.19</td>\n",
       "      <td>The Military</td>\n",
       "    </tr>\n",
       "    <tr>\n",
       "      <th>4</th>\n",
       "      <td>0.16</td>\n",
       "      <td>Conservatives</td>\n",
       "    </tr>\n",
       "    <tr>\n",
       "      <th>5</th>\n",
       "      <td>0.15</td>\n",
       "      <td>Asian-Americans</td>\n",
       "    </tr>\n",
       "    <tr>\n",
       "      <th>6</th>\n",
       "      <td>0.14</td>\n",
       "      <td>Christians</td>\n",
       "    </tr>\n",
       "    <tr>\n",
       "      <th>7</th>\n",
       "      <td>0.12</td>\n",
       "      <td>Catholics</td>\n",
       "    </tr>\n",
       "    <tr>\n",
       "      <th>8</th>\n",
       "      <td>0.10</td>\n",
       "      <td>Middle Class People</td>\n",
       "    </tr>\n",
       "    <tr>\n",
       "      <th>9</th>\n",
       "      <td>0.04</td>\n",
       "      <td>Liberals</td>\n",
       "    </tr>\n",
       "    <tr>\n",
       "      <th>10</th>\n",
       "      <td>0.01</td>\n",
       "      <td>Labor Unions</td>\n",
       "    </tr>\n",
       "    <tr>\n",
       "      <th>11</th>\n",
       "      <td>-0.00</td>\n",
       "      <td>Tea Party</td>\n",
       "    </tr>\n",
       "    <tr>\n",
       "      <th>12</th>\n",
       "      <td>-0.01</td>\n",
       "      <td>Christian Fundamentalists</td>\n",
       "    </tr>\n",
       "    <tr>\n",
       "      <th>13</th>\n",
       "      <td>-0.02</td>\n",
       "      <td>Mormons</td>\n",
       "    </tr>\n",
       "    <tr>\n",
       "      <th>14</th>\n",
       "      <td>-0.05</td>\n",
       "      <td>Feminists</td>\n",
       "    </tr>\n",
       "    <tr>\n",
       "      <th>15</th>\n",
       "      <td>-0.05</td>\n",
       "      <td>Atheists</td>\n",
       "    </tr>\n",
       "    <tr>\n",
       "      <th>16</th>\n",
       "      <td>-0.07</td>\n",
       "      <td>Working Class People</td>\n",
       "    </tr>\n",
       "    <tr>\n",
       "      <th>17</th>\n",
       "      <td>-0.07</td>\n",
       "      <td>Gay Men and Lesbians</td>\n",
       "    </tr>\n",
       "    <tr>\n",
       "      <th>18</th>\n",
       "      <td>-0.15</td>\n",
       "      <td>Blacks</td>\n",
       "    </tr>\n",
       "    <tr>\n",
       "      <th>19</th>\n",
       "      <td>-0.16</td>\n",
       "      <td>Hispanics</td>\n",
       "    </tr>\n",
       "    <tr>\n",
       "      <th>20</th>\n",
       "      <td>-0.19</td>\n",
       "      <td>Muslims</td>\n",
       "    </tr>\n",
       "    <tr>\n",
       "      <th>21</th>\n",
       "      <td>-0.45</td>\n",
       "      <td>People on Welfare</td>\n",
       "    </tr>\n",
       "    <tr>\n",
       "      <th>22</th>\n",
       "      <td>-0.45</td>\n",
       "      <td>Illegal Immigrants</td>\n",
       "    </tr>\n",
       "    <tr>\n",
       "      <th>23</th>\n",
       "      <td>-0.46</td>\n",
       "      <td>Poor People</td>\n",
       "    </tr>\n",
       "  </tbody>\n",
       "</table>\n",
       "</div>"
      ],
      "text/plain": [
       "    Status                Demographic\n",
       "0     0.54                Rich People\n",
       "1     0.43               Big Business\n",
       "2     0.26                     Whites\n",
       "3     0.19               The Military\n",
       "4     0.16              Conservatives\n",
       "5     0.15            Asian-Americans\n",
       "6     0.14                 Christians\n",
       "7     0.12                  Catholics\n",
       "8     0.10        Middle Class People\n",
       "9     0.04                   Liberals\n",
       "10    0.01               Labor Unions\n",
       "11   -0.00                  Tea Party\n",
       "12   -0.01  Christian Fundamentalists\n",
       "13   -0.02                    Mormons\n",
       "14   -0.05                  Feminists\n",
       "15   -0.05                   Atheists\n",
       "16   -0.07       Working Class People\n",
       "17   -0.07       Gay Men and Lesbians\n",
       "18   -0.15                     Blacks\n",
       "19   -0.16                  Hispanics\n",
       "20   -0.19                    Muslims\n",
       "21   -0.45          People on Welfare\n",
       "22   -0.45         Illegal Immigrants\n",
       "23   -0.46                Poor People"
      ]
     },
     "execution_count": 5,
     "metadata": {},
     "output_type": "execute_result"
    }
   ],
   "source": [
    "S = pandas.read_sql_query('''\n",
    "SELECT ROUND(Status,2) as 'Status', Demographic FROM StaIdeConv\n",
    "ORDER BY Status Desc\n",
    "\n",
    "''',  disk_engine)\n",
    "\n",
    "S\n"
   ]
  },
  {
   "cell_type": "code",
   "execution_count": 6,
   "metadata": {
    "collapsed": false
   },
   "outputs": [
    {
     "data": {
      "text/html": [
       "<div>\n",
       "<table border=\"1\" class=\"dataframe\">\n",
       "  <thead>\n",
       "    <tr style=\"text-align: right;\">\n",
       "      <th></th>\n",
       "      <th>Choice</th>\n",
       "      <th>Demographic</th>\n",
       "    </tr>\n",
       "  </thead>\n",
       "  <tbody>\n",
       "    <tr>\n",
       "      <th>0</th>\n",
       "      <td>0.34</td>\n",
       "      <td>Conservatives</td>\n",
       "    </tr>\n",
       "    <tr>\n",
       "      <th>1</th>\n",
       "      <td>0.34</td>\n",
       "      <td>Tea Party</td>\n",
       "    </tr>\n",
       "    <tr>\n",
       "      <th>2</th>\n",
       "      <td>0.33</td>\n",
       "      <td>Liberals</td>\n",
       "    </tr>\n",
       "    <tr>\n",
       "      <th>3</th>\n",
       "      <td>0.33</td>\n",
       "      <td>Christians</td>\n",
       "    </tr>\n",
       "    <tr>\n",
       "      <th>4</th>\n",
       "      <td>0.32</td>\n",
       "      <td>Atheists</td>\n",
       "    </tr>\n",
       "    <tr>\n",
       "      <th>5</th>\n",
       "      <td>0.30</td>\n",
       "      <td>Christian Fundamentalists</td>\n",
       "    </tr>\n",
       "    <tr>\n",
       "      <th>6</th>\n",
       "      <td>0.29</td>\n",
       "      <td>Feminists</td>\n",
       "    </tr>\n",
       "    <tr>\n",
       "      <th>7</th>\n",
       "      <td>0.29</td>\n",
       "      <td>The Military</td>\n",
       "    </tr>\n",
       "    <tr>\n",
       "      <th>8</th>\n",
       "      <td>0.28</td>\n",
       "      <td>Catholics</td>\n",
       "    </tr>\n",
       "    <tr>\n",
       "      <th>9</th>\n",
       "      <td>0.21</td>\n",
       "      <td>Big Business</td>\n",
       "    </tr>\n",
       "    <tr>\n",
       "      <th>10</th>\n",
       "      <td>0.21</td>\n",
       "      <td>Mormons</td>\n",
       "    </tr>\n",
       "    <tr>\n",
       "      <th>11</th>\n",
       "      <td>0.16</td>\n",
       "      <td>Labor Unions</td>\n",
       "    </tr>\n",
       "    <tr>\n",
       "      <th>12</th>\n",
       "      <td>0.13</td>\n",
       "      <td>Rich People</td>\n",
       "    </tr>\n",
       "    <tr>\n",
       "      <th>13</th>\n",
       "      <td>0.01</td>\n",
       "      <td>Muslims</td>\n",
       "    </tr>\n",
       "    <tr>\n",
       "      <th>14</th>\n",
       "      <td>-0.06</td>\n",
       "      <td>Middle Class People</td>\n",
       "    </tr>\n",
       "    <tr>\n",
       "      <th>15</th>\n",
       "      <td>-0.08</td>\n",
       "      <td>Illegal Immigrants</td>\n",
       "    </tr>\n",
       "    <tr>\n",
       "      <th>16</th>\n",
       "      <td>-0.09</td>\n",
       "      <td>Working Class People</td>\n",
       "    </tr>\n",
       "    <tr>\n",
       "      <th>17</th>\n",
       "      <td>-0.14</td>\n",
       "      <td>People on Welfare</td>\n",
       "    </tr>\n",
       "    <tr>\n",
       "      <th>18</th>\n",
       "      <td>-0.30</td>\n",
       "      <td>Poor People</td>\n",
       "    </tr>\n",
       "    <tr>\n",
       "      <th>19</th>\n",
       "      <td>-0.37</td>\n",
       "      <td>Gay Men and Lesbians</td>\n",
       "    </tr>\n",
       "    <tr>\n",
       "      <th>20</th>\n",
       "      <td>-0.57</td>\n",
       "      <td>Whites</td>\n",
       "    </tr>\n",
       "    <tr>\n",
       "      <th>21</th>\n",
       "      <td>-0.61</td>\n",
       "      <td>Asian-Americans</td>\n",
       "    </tr>\n",
       "    <tr>\n",
       "      <th>22</th>\n",
       "      <td>-0.63</td>\n",
       "      <td>Hispanics</td>\n",
       "    </tr>\n",
       "    <tr>\n",
       "      <th>23</th>\n",
       "      <td>-0.66</td>\n",
       "      <td>Blacks</td>\n",
       "    </tr>\n",
       "  </tbody>\n",
       "</table>\n",
       "</div>"
      ],
      "text/plain": [
       "    Choice                Demographic\n",
       "0     0.34              Conservatives\n",
       "1     0.34                  Tea Party\n",
       "2     0.33                   Liberals\n",
       "3     0.33                 Christians\n",
       "4     0.32                   Atheists\n",
       "5     0.30  Christian Fundamentalists\n",
       "6     0.29                  Feminists\n",
       "7     0.29               The Military\n",
       "8     0.28                  Catholics\n",
       "9     0.21               Big Business\n",
       "10    0.21                    Mormons\n",
       "11    0.16               Labor Unions\n",
       "12    0.13                Rich People\n",
       "13    0.01                    Muslims\n",
       "14   -0.06        Middle Class People\n",
       "15   -0.08         Illegal Immigrants\n",
       "16   -0.09       Working Class People\n",
       "17   -0.14          People on Welfare\n",
       "18   -0.30                Poor People\n",
       "19   -0.37       Gay Men and Lesbians\n",
       "20   -0.57                     Whites\n",
       "21   -0.61            Asian-Americans\n",
       "22   -0.63                  Hispanics\n",
       "23   -0.66                     Blacks"
      ]
     },
     "execution_count": 6,
     "metadata": {},
     "output_type": "execute_result"
    }
   ],
   "source": [
    "\n",
    "C = pandas.read_sql_query('''\n",
    "SELECT ROUND(Choice,2) as 'Choice', Demographic FROM StaIdeConv\n",
    "ORDER BY Choice Desc\n",
    "\n",
    "''',  disk_engine)\n",
    "C\n",
    "\n",
    "\n"
   ]
  },
  {
   "cell_type": "code",
   "execution_count": 7,
   "metadata": {
    "collapsed": false
   },
   "outputs": [],
   "source": [
    "SC = pandas.read_sql_query('''\n",
    "SELECT Status, Ideology, Conventionalism, Choice, Demographic FROM StaIdeConv\n",
    "ORDER BY Demographic Asc\n",
    "\n",
    "''',  disk_engine)"
   ]
  },
  {
   "cell_type": "code",
   "execution_count": 8,
   "metadata": {
    "collapsed": false,
    "scrolled": false
   },
   "outputs": [
    {
     "data": {
      "image/png": "[encoded data removed]",
      "text/plain": [
       "<matplotlib.figure.Figure at 0x1175d5fd0>"
      ]
     },
     "metadata": {},
     "output_type": "display_data"
    }
   ],
   "source": [
    "import seaborn as sns\n",
    "import matplotlib.pyplot as plt\n",
    "%matplotlib inline\n",
    "sns.set()\n",
    "scatter_matrix = sns.pairplot(SC,  markers='D', palette= 'husl', kind = 'reg',diag_kind='kde')\n",
    "\n",
    "\n"
   ]
  },
  {
   "cell_type": "code",
   "execution_count": 62,
   "metadata": {
    "collapsed": true
   },
   "outputs": [],
   "source": [
    "D3 = pandas.read_sql_query('''\n",
    "SELECT * FROM StaIdeConv\n",
    "ORDER BY Demographic Asc\n",
    "\n",
    "''',  disk_engine)"
   ]
  },
  {
   "cell_type": "code",
   "execution_count": 10,
   "metadata": {
    "collapsed": false
   },
   "outputs": [
    {
     "data": {
      "text/html": [
       "<iframe id=\"igraph\" scrolling=\"no\" style=\"border:none;\" seamless=\"seamless\" src=\"https://plot.ly/~zestela/7.embed\" height=\"800px\" width=\"800px\"></iframe>"
      ],
      "text/plain": [
       "<plotly.tools.PlotlyDisplay object>"
      ]
     },
     "execution_count": 10,
     "metadata": {},
     "output_type": "execute_result"
    }
   ],
   "source": [
    "import plotly.plotly as py\n",
    "\n",
    "py.plotly.tools.set_credentials_file(username='zestela', api_key='zbvqdfpjh3')\n",
    "import plotly.plotly as py\n",
    "import plotly.graph_objs as go\n",
    "\n",
    "# Create random data with numpy\n",
    "import numpy as np\n",
    "\n",
    "a = D3.Status\n",
    "\n",
    "# Create a trace\n",
    "trace = go.Scatter3d(\n",
    "    x = D3.Ideology,\n",
    "    y = D3.Choice,\n",
    "    z = D3.Conventionalism,\n",
    "    mode = 'markers',\n",
    "    text = D3.Demographic,\n",
    "    marker=dict(\n",
    "        size=12,\n",
    "        color=a,                # set color to an array/list of desired values\n",
    "        colorscale='Viridis',   # choose a colorscale\n",
    "        opacity=0.8)\n",
    "    \n",
    ")\n",
    "\n",
    "\n",
    "\n",
    "layout=go.Layout(width=800, height=800, title = 'Status',\n",
    "              scene = dict(xaxis=dict(title='Ideology',\n",
    "                                      titlefont=dict(color='rgb(220, 220, 220)')),\n",
    "                            yaxis=dict(title='Choice',\n",
    "                                       titlefont=dict(color='rgb(220, 220, 220)')),\n",
    "                            zaxis=dict(title='Conventionalism',\n",
    "                                       titlefont=dict(color='rgb(220, 220, 220)')),\n",
    "                            bgcolor = 'rgb(20, 24, 54)'\n",
    "                           )\n",
    "             )\n",
    "\n",
    "\n",
    "data = [trace]\n",
    "fig=dict(data=data, layout=layout)\n",
    "\n",
    "\n",
    "\n",
    "\n",
    "\n",
    "\n",
    "# Plot and embed in ipython notebook!\n",
    "py.iplot(fig, filename='simple-3d-scatter')\n"
   ]
  },
  {
   "cell_type": "code",
   "execution_count": 11,
   "metadata": {
    "collapsed": false
   },
   "outputs": [
    {
     "data": {
      "text/html": [
       "<iframe id=\"igraph\" scrolling=\"no\" style=\"border:none;\" seamless=\"seamless\" src=\"https://plot.ly/~zestela/7.embed\" height=\"800px\" width=\"800px\"></iframe>"
      ],
      "text/plain": [
       "<plotly.tools.PlotlyDisplay object>"
      ]
     },
     "execution_count": 11,
     "metadata": {},
     "output_type": "execute_result"
    }
   ],
   "source": [
    "import plotly.plotly as py\n",
    "\n",
    "py.plotly.tools.set_credentials_file(username='zestela', api_key='zbvqdfpjh3')\n",
    "import plotly.plotly as py\n",
    "import plotly.graph_objs as go\n",
    "\n",
    "# Create random data with numpy\n",
    "import numpy as np\n",
    "\n",
    "a = D3.Choice\n",
    "\n",
    "# Create a trace\n",
    "trace = go.Scatter3d(\n",
    "    x = D3.Ideology,\n",
    "    y = D3.Status,\n",
    "    z = D3.Conventionalism,\n",
    "    mode = 'markers',\n",
    "    text = D3.Demographic,\n",
    "    marker=dict(\n",
    "        size=12,\n",
    "        color=a,                # set color to an array/list of desired values\n",
    "        colorscale='Viridis',   # choose a colorscale\n",
    "        opacity=0.8)\n",
    "    \n",
    ")\n",
    "\n",
    "\n",
    "\n",
    "layout=go.Layout(width=800, height=800, title = 'Status',\n",
    "              scene = dict(xaxis=dict(title='Ideology',\n",
    "                                      titlefont=dict(color='rgb(220, 220, 220)')),\n",
    "                            yaxis=dict(title='Status',\n",
    "                                       titlefont=dict(color='rgb(220, 220, 220)')),\n",
    "                            zaxis=dict(title='Conventionalism',\n",
    "                                       titlefont=dict(color='rgb(220, 220, 220)')),\n",
    "                            bgcolor = 'rgb(20, 24, 54)'\n",
    "                           )\n",
    "             )\n",
    "\n",
    "\n",
    "data = [trace]\n",
    "fig=dict(data=data, layout=layout)\n",
    "\n",
    "\n",
    "\n",
    "\n",
    "\n",
    "\n",
    "# Plot and embed in ipython notebook!\n",
    "py.iplot(fig, filename='simple-3d-scatter')"
   ]
  },
  {
   "cell_type": "code",
   "execution_count": 135,
   "metadata": {
    "collapsed": false
   },
   "outputs": [
    {
     "data": {
      "text/html": [
       "<div>\n",
       "<table border=\"1\" class=\"dataframe\">\n",
       "  <thead>\n",
       "    <tr style=\"text-align: right;\">\n",
       "      <th></th>\n",
       "      <th>Status</th>\n",
       "      <th>Ideology</th>\n",
       "      <th>Conventionalism</th>\n",
       "      <th>Choice</th>\n",
       "    </tr>\n",
       "  </thead>\n",
       "  <tbody>\n",
       "    <tr>\n",
       "      <th>Status</th>\n",
       "      <td>1.000000</td>\n",
       "      <td>0.547470</td>\n",
       "      <td>0.532140</td>\n",
       "      <td>0.370667</td>\n",
       "    </tr>\n",
       "    <tr>\n",
       "      <th>Ideology</th>\n",
       "      <td>0.547470</td>\n",
       "      <td>1.000000</td>\n",
       "      <td>0.845887</td>\n",
       "      <td>0.455091</td>\n",
       "    </tr>\n",
       "    <tr>\n",
       "      <th>Conventionalism</th>\n",
       "      <td>0.532140</td>\n",
       "      <td>0.845887</td>\n",
       "      <td>1.000000</td>\n",
       "      <td>0.330752</td>\n",
       "    </tr>\n",
       "    <tr>\n",
       "      <th>Choice</th>\n",
       "      <td>0.370667</td>\n",
       "      <td>0.455091</td>\n",
       "      <td>0.330752</td>\n",
       "      <td>1.000000</td>\n",
       "    </tr>\n",
       "  </tbody>\n",
       "</table>\n",
       "</div>"
      ],
      "text/plain": [
       "                   Status  Ideology  Conventionalism    Choice\n",
       "Status           1.000000  0.547470         0.532140  0.370667\n",
       "Ideology         0.547470  1.000000         0.845887  0.455091\n",
       "Conventionalism  0.532140  0.845887         1.000000  0.330752\n",
       "Choice           0.370667  0.455091         0.330752  1.000000"
      ]
     },
     "execution_count": 135,
     "metadata": {},
     "output_type": "execute_result"
    }
   ],
   "source": [
    "corrmat = D3.corr()\n",
    "# Remove 'index' labels\n",
    "corrmat = corrmat.drop(corrmat.index[0],1)\n",
    "corrmat = corrmat.drop(corrmat.index[0],0)\n",
    "\n",
    "corrmat"
   ]
  },
  {
   "cell_type": "code",
   "execution_count": 165,
   "metadata": {
    "collapsed": false
   },
   "outputs": [
    {
     "data": {
      "image/png": "[encoded data removed]",
      "text/plain": [
       "<matplotlib.figure.Figure at 0x11f1671d0>"
      ]
     },
     "metadata": {},
     "output_type": "display_data"
    }
   ],
   "source": [
    "import seaborn as sns\n",
    "import matplotlib.pyplot as plt\n",
    "sns.set(font_scale = 1.5,  font=\"Hack\")\n",
    "\n",
    "# Load the datset of correlations between cortical brain networks\n",
    "\n",
    "# Set up the matplotlib figure\n",
    "f, ax = plt.subplots(figsize=(11, 8))\n",
    "\n",
    "# Draw the heatmap using seaborn\n",
    "\n",
    "cmap = sns.cubehelix_palette(start=2.8, rot=.1,as_cmap=True)\n",
    "cmap2 = sns.dark_palette(\"purple\",as_cmap=True)\n",
    "sns.heatmap(corrmat, robust = True, linewidths=.5, square=True, cmap=cmap)\n",
    "\n",
    "f.tight_layout()"
   ]
  },
  {
   "cell_type": "code",
   "execution_count": 170,
   "metadata": {
    "collapsed": false
   },
   "outputs": [],
   "source": [
    "Gr = [g for g in group_pd['Demographic'] ]\n",
    "a = SelectMultiple(\n",
    "    width = 900,\n",
    "    description=\"You\",\n",
    "    options= Gr\n",
    "    \n",
    ")\n",
    "a\n",
    "\n",
    "\n"
   ]
  },
  {
   "cell_type": "code",
   "execution_count": 169,
   "metadata": {
    "collapsed": false,
    "scrolled": true
   },
   "outputs": [
    {
     "data": {
      "text/html": [
       "<div>\n",
       "<table border=\"1\" class=\"dataframe\">\n",
       "  <thead>\n",
       "    <tr style=\"text-align: right;\">\n",
       "      <th></th>\n",
       "      <th>Status</th>\n",
       "      <th>Ideology</th>\n",
       "      <th>Conventionalism</th>\n",
       "      <th>Choice</th>\n",
       "      <th>Demographic</th>\n",
       "    </tr>\n",
       "  </thead>\n",
       "  <tbody>\n",
       "    <tr>\n",
       "      <th>21</th>\n",
       "      <td>-0.15107</td>\n",
       "      <td>-0.219293</td>\n",
       "      <td>-0.100539</td>\n",
       "      <td>-0.663434</td>\n",
       "      <td>Blacks</td>\n",
       "    </tr>\n",
       "  </tbody>\n",
       "</table>\n",
       "</div>"
      ],
      "text/plain": [
       "     Status  Ideology  Conventionalism    Choice Demographic\n",
       "21 -0.15107 -0.219293        -0.100539 -0.663434      Blacks"
      ]
     },
     "execution_count": 169,
     "metadata": {},
     "output_type": "execute_result"
    }
   ],
   "source": [
    "df = group_pd[group_pd['Demographic'].isin(a.value)]\n",
    "df"
   ]
  },
  {
   "cell_type": "code",
   "execution_count": 172,
   "metadata": {
    "collapsed": false
   },
   "outputs": [],
   "source": [
    "def denorm(n):\n",
    "    return round( n.mean()*100,1)\n"
   ]
  },
  {
   "cell_type": "code",
   "execution_count": 173,
   "metadata": {
    "collapsed": false
   },
   "outputs": [
    {
     "data": {
      "text/html": [
       "<div>\n",
       "<table border=\"1\" class=\"dataframe\">\n",
       "  <thead>\n",
       "    <tr style=\"text-align: right;\">\n",
       "      <th></th>\n",
       "      <th>Groups</th>\n",
       "      <th>Status</th>\n",
       "      <th>Ideology</th>\n",
       "      <th>Conventionalism</th>\n",
       "      <th>Choice</th>\n",
       "    </tr>\n",
       "  </thead>\n",
       "  <tbody>\n",
       "    <tr>\n",
       "      <th>0</th>\n",
       "      <td>Atheists, Mormons, Blacks</td>\n",
       "      <td>-15.1</td>\n",
       "      <td>-21.9</td>\n",
       "      <td>-10.1</td>\n",
       "      <td>-66.3</td>\n",
       "    </tr>\n",
       "  </tbody>\n",
       "</table>\n",
       "</div>"
      ],
      "text/plain": [
       "                      Groups  Status  Ideology  Conventionalism  Choice\n",
       "0  Atheists, Mormons, Blacks   -15.1     -21.9            -10.1   -66.3"
      ]
     },
     "execution_count": 173,
     "metadata": {},
     "output_type": "execute_result"
    }
   ],
   "source": [
    "selection =  { 'Groups': [', '.join([str(i) for (i) in a.value])],\n",
    "              'Status': [denorm(df.Status)], \n",
    "              'Ideology': [denorm(df.Ideology)], \n",
    "              'Conventionalism':[denorm(df.Conventionalism)], \n",
    "              'Choice':[denorm(df.Choice)]}\n",
    "myDemographics = pandas.DataFrame.from_dict(selection)\n",
    "\n",
    "sortCols = ['Groups'] + [k for k in selection.keys() if k != 'Groups']\n",
    "\n",
    "myDemographics = myDemographics.reindex(columns=[sortCols])\n",
    "myDemographics"
   ]
  }
 ],
 "metadata": {
  "anaconda-cloud": {},
  "kernelspec": {
   "display_name": "Python [Root]",
   "language": "python",
   "name": "Python [Root]"
  },
  "language_info": {
   "codemirror_mode": {
    "name": "ipython",
    "version": 2
   },
   "file_extension": ".py",
   "mimetype": "text/x-python",
   "name": "python",
   "nbconvert_exporter": "python",
   "pygments_lexer": "ipython2",
   "version": "2.7.12"
  },
  "widgets": {
   "state": {
    "5f00b708b4e7487a8850d882dfb66254": {
     "views": [
      {
       "cell_index": 7
      }
     ]
    }
   },
   "version": "1.2.0"
  }
 },
 "nbformat": 4,
 "nbformat_minor": 0
}
