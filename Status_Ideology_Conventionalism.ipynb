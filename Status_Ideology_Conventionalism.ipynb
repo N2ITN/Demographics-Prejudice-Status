{
 "cells": [
  {
   "cell_type": "code",
   "execution_count": 1,
   "metadata": {
    "collapsed": false
   },
   "outputs": [],
   "source": [
    "import pandas\n",
    "import numpy as np\n",
    "from ipywidgets import *\n",
    "import sqlalchemy "
   ]
  },
  {
   "cell_type": "code",
   "execution_count": 2,
   "metadata": {
    "collapsed": false
   },
   "outputs": [],
   "source": [
    "groupdata = \"Group Level Data.xlsx\"\n",
    "disk_engine = sqlalchemy.create_engine('sqlite:///311_8M.db')"
   ]
  },
  {
   "cell_type": "code",
   "execution_count": 138,
   "metadata": {
    "collapsed": false
   },
   "outputs": [
    {
     "data": {
      "text/plain": [
       "[(u'Status', unicode),\n",
       " (u'Ideology', unicode),\n",
       " (u'Conventionalism', unicode),\n",
       " (u'Choice', unicode),\n",
       " ('Demographic', str)]"
      ]
     },
     "execution_count": 138,
     "metadata": {},
     "output_type": "execute_result"
    }
   ],
   "source": [
    "all_ = pandas.read_excel(groupdata,encoding='utf-8')\n",
    "group_pd = all_.loc[:,'Status':'Choice'] \n",
    "\n",
    "group_pd = group_pd.apply(lambda x: (x - np.mean(x)) / (np.max(x) - np.min(x) ))\n",
    "group_pd['Demographic'] = all_.Group\n",
    "[(r, type(r)) for r in group_pd.columns]"
   ]
  },
  {
   "cell_type": "code",
   "execution_count": 139,
   "metadata": {
    "collapsed": false
   },
   "outputs": [
    {
     "name": "stdout",
     "output_type": "stream",
     "text": [
      "<class 'sqlalchemy.exc.ResourceClosedError'> This result object does not return rows. It has been closed automatically.\n"
     ]
    }
   ],
   "source": [
    "# Load table to SQL\n",
    "\n",
    "def try_load():\n",
    "    try:\n",
    "        pandas.read_sql_query('''DROP TABLE StaIdeConv''',  disk_engine)\n",
    "    \n",
    "    except Exception as  e:\n",
    "        print type(e), e\n",
    "    try:\n",
    "        group_pd.to_sql('StaIdeConv', disk_engine)\n",
    "    except Exception as  e:\n",
    "        print type(e), e\n",
    "        \n",
    "try_load()\n",
    "\n"
   ]
  },
  {
   "cell_type": "code",
   "execution_count": 209,
   "metadata": {
    "collapsed": false
   },
   "outputs": [
    {
     "data": {
      "text/html": [
       "<div>\n",
       "<table border=\"1\" class=\"dataframe\">\n",
       "  <thead>\n",
       "    <tr style=\"text-align: right;\">\n",
       "      <th></th>\n",
       "      <th>Choice</th>\n",
       "      <th>Demographic</th>\n",
       "    </tr>\n",
       "  </thead>\n",
       "  <tbody>\n",
       "    <tr>\n",
       "      <th>0</th>\n",
       "      <td>0.34</td>\n",
       "      <td>Conservatives</td>\n",
       "    </tr>\n",
       "    <tr>\n",
       "      <th>1</th>\n",
       "      <td>0.34</td>\n",
       "      <td>Tea Party</td>\n",
       "    </tr>\n",
       "    <tr>\n",
       "      <th>2</th>\n",
       "      <td>0.33</td>\n",
       "      <td>Liberals</td>\n",
       "    </tr>\n",
       "    <tr>\n",
       "      <th>3</th>\n",
       "      <td>0.33</td>\n",
       "      <td>Christians</td>\n",
       "    </tr>\n",
       "    <tr>\n",
       "      <th>4</th>\n",
       "      <td>0.32</td>\n",
       "      <td>Atheists</td>\n",
       "    </tr>\n",
       "    <tr>\n",
       "      <th>5</th>\n",
       "      <td>0.30</td>\n",
       "      <td>Christian Fundamentalists</td>\n",
       "    </tr>\n",
       "    <tr>\n",
       "      <th>6</th>\n",
       "      <td>0.29</td>\n",
       "      <td>Feminists</td>\n",
       "    </tr>\n",
       "    <tr>\n",
       "      <th>7</th>\n",
       "      <td>0.29</td>\n",
       "      <td>The Military</td>\n",
       "    </tr>\n",
       "    <tr>\n",
       "      <th>8</th>\n",
       "      <td>0.28</td>\n",
       "      <td>Catholics</td>\n",
       "    </tr>\n",
       "    <tr>\n",
       "      <th>9</th>\n",
       "      <td>0.21</td>\n",
       "      <td>Big Business</td>\n",
       "    </tr>\n",
       "    <tr>\n",
       "      <th>10</th>\n",
       "      <td>0.21</td>\n",
       "      <td>Mormons</td>\n",
       "    </tr>\n",
       "    <tr>\n",
       "      <th>11</th>\n",
       "      <td>0.16</td>\n",
       "      <td>Labor Unions</td>\n",
       "    </tr>\n",
       "    <tr>\n",
       "      <th>12</th>\n",
       "      <td>0.13</td>\n",
       "      <td>Rich People</td>\n",
       "    </tr>\n",
       "    <tr>\n",
       "      <th>13</th>\n",
       "      <td>0.01</td>\n",
       "      <td>Muslims</td>\n",
       "    </tr>\n",
       "    <tr>\n",
       "      <th>14</th>\n",
       "      <td>-0.06</td>\n",
       "      <td>Middle Class People</td>\n",
       "    </tr>\n",
       "    <tr>\n",
       "      <th>15</th>\n",
       "      <td>-0.08</td>\n",
       "      <td>Illegal Immigrants</td>\n",
       "    </tr>\n",
       "    <tr>\n",
       "      <th>16</th>\n",
       "      <td>-0.09</td>\n",
       "      <td>Working Class People</td>\n",
       "    </tr>\n",
       "    <tr>\n",
       "      <th>17</th>\n",
       "      <td>-0.14</td>\n",
       "      <td>People on Welfare</td>\n",
       "    </tr>\n",
       "    <tr>\n",
       "      <th>18</th>\n",
       "      <td>-0.30</td>\n",
       "      <td>Poor People</td>\n",
       "    </tr>\n",
       "    <tr>\n",
       "      <th>19</th>\n",
       "      <td>-0.37</td>\n",
       "      <td>Gay Men and Lesbians</td>\n",
       "    </tr>\n",
       "    <tr>\n",
       "      <th>20</th>\n",
       "      <td>-0.57</td>\n",
       "      <td>Whites</td>\n",
       "    </tr>\n",
       "    <tr>\n",
       "      <th>21</th>\n",
       "      <td>-0.61</td>\n",
       "      <td>Asian-Americans</td>\n",
       "    </tr>\n",
       "    <tr>\n",
       "      <th>22</th>\n",
       "      <td>-0.63</td>\n",
       "      <td>Hispanics</td>\n",
       "    </tr>\n",
       "    <tr>\n",
       "      <th>23</th>\n",
       "      <td>-0.66</td>\n",
       "      <td>Blacks</td>\n",
       "    </tr>\n",
       "  </tbody>\n",
       "</table>\n",
       "</div>"
      ],
      "text/plain": [
       "    Choice                Demographic\n",
       "0     0.34              Conservatives\n",
       "1     0.34                  Tea Party\n",
       "2     0.33                   Liberals\n",
       "3     0.33                 Christians\n",
       "4     0.32                   Atheists\n",
       "5     0.30  Christian Fundamentalists\n",
       "6     0.29                  Feminists\n",
       "7     0.29               The Military\n",
       "8     0.28                  Catholics\n",
       "9     0.21               Big Business\n",
       "10    0.21                    Mormons\n",
       "11    0.16               Labor Unions\n",
       "12    0.13                Rich People\n",
       "13    0.01                    Muslims\n",
       "14   -0.06        Middle Class People\n",
       "15   -0.08         Illegal Immigrants\n",
       "16   -0.09       Working Class People\n",
       "17   -0.14          People on Welfare\n",
       "18   -0.30                Poor People\n",
       "19   -0.37       Gay Men and Lesbians\n",
       "20   -0.57                     Whites\n",
       "21   -0.61            Asian-Americans\n",
       "22   -0.63                  Hispanics\n",
       "23   -0.66                     Blacks"
      ]
     },
     "execution_count": 209,
     "metadata": {},
     "output_type": "execute_result"
    }
   ],
   "source": [
    "S = pandas.read_sql_query('''\n",
    "SELECT ROUND(Status,2) as 'Status', Demographic FROM StaIdeConv\n",
    "ORDER BY Status Desc\n",
    "\n",
    "''',  disk_engine)\n",
    "\n",
    "S\n",
    "\n",
    "C = pandas.read_sql_query('''\n",
    "SELECT ROUND(Choice,2) as 'Choice', Demographic FROM StaIdeConv\n",
    "ORDER BY Choice Desc\n",
    "\n",
    "''',  disk_engine)\n",
    "C\n",
    "\n",
    "\n",
    "SC = pandas.read_sql_query('''\n",
    "SELECT Status, Ideology, Conventionalism, Choice, Demographic FROM StaIdeConv\n",
    "ORDER BY Demographic Asc\n",
    "\n",
    "''',  disk_engine)\n",
    "C"
   ]
  },
  {
   "cell_type": "code",
   "execution_count": 207,
   "metadata": {
    "collapsed": false
   },
   "outputs": [],
   "source": [
    "import seaborn as sns\n",
    "\n",
    "import pylab\n",
    "sns.set()\n",
    "\n",
    "\n",
    "import matplotlib.pyplot as plt\n",
    "grid = sns.pairplot(SC,  markers='D', palette= 'deep', diag_kind='kde')\n",
    "# g = sns.PairGrid(SC,palette= sns.palplot(sns.cubehelix_palette(8)),hue=\"Demographic\")\n",
    "# g.map_upper(plt.scatter)\n",
    "# g.map_lower(sns.kdeplot, cmap=\"Blues_d\",hue=\"Type\")\n",
    "# g.map_diag(sns.kdeplot, legend=True);\n",
    "sns.plt.show()\n"
   ]
  },
  {
   "cell_type": "code",
   "execution_count": 157,
   "metadata": {
    "collapsed": false
   },
   "outputs": [],
   "source": [
    "Gr = [g for g in group_pd['Demographic'] ]"
   ]
  },
  {
   "cell_type": "code",
   "execution_count": 159,
   "metadata": {
    "collapsed": false
   },
   "outputs": [],
   "source": [
    "a = SelectMultiple(\n",
    "    width = 900,\n",
    "    description=\"You\",\n",
    "    options= Gr\n",
    "    \n",
    ")\n",
    "a"
   ]
  },
  {
   "cell_type": "code",
   "execution_count": 210,
   "metadata": {
    "collapsed": false
   },
   "outputs": [
    {
     "data": {
      "text/html": [
       "<div>\n",
       "<table border=\"1\" class=\"dataframe\">\n",
       "  <thead>\n",
       "    <tr style=\"text-align: right;\">\n",
       "      <th></th>\n",
       "      <th>Status</th>\n",
       "      <th>Ideology</th>\n",
       "      <th>Conventionalism</th>\n",
       "      <th>Choice</th>\n",
       "      <th>Demographic</th>\n",
       "    </tr>\n",
       "  </thead>\n",
       "  <tbody>\n",
       "    <tr>\n",
       "      <th>1</th>\n",
       "      <td>0.115820</td>\n",
       "      <td>0.21164</td>\n",
       "      <td>0.323164</td>\n",
       "      <td>0.278750</td>\n",
       "      <td>Catholics</td>\n",
       "    </tr>\n",
       "    <tr>\n",
       "      <th>4</th>\n",
       "      <td>0.101553</td>\n",
       "      <td>0.01627</td>\n",
       "      <td>0.189919</td>\n",
       "      <td>-0.064635</td>\n",
       "      <td>Middle Class People</td>\n",
       "    </tr>\n",
       "  </tbody>\n",
       "</table>\n",
       "</div>"
      ],
      "text/plain": [
       "     Status  Ideology  Conventionalism    Choice          Demographic\n",
       "1  0.115820   0.21164         0.323164  0.278750            Catholics\n",
       "4  0.101553   0.01627         0.189919 -0.064635  Middle Class People"
      ]
     },
     "execution_count": 210,
     "metadata": {},
     "output_type": "execute_result"
    }
   ],
   "source": [
    "df = group_pd[group_pd['Demographic'].isin(a.value)]\n",
    "df"
   ]
  },
  {
   "cell_type": "code",
   "execution_count": 211,
   "metadata": {
    "collapsed": false
   },
   "outputs": [],
   "source": [
    "def denorm(n):\n",
    "    return str( round( ((n.mean()+1.)/2.)*100,1)) + \"%\"\n"
   ]
  },
  {
   "cell_type": "code",
   "execution_count": 213,
   "metadata": {
    "collapsed": false
   },
   "outputs": [
    {
     "name": "stdout",
     "output_type": "stream",
     "text": [
      "You Selected: \n",
      "Catholics, Middle Class People\n",
      "Status 55.4%\n",
      "Ideology 55.7%\n",
      "Conventionalism 62.8%\n",
      "Choice 55.4%\n"
     ]
    }
   ],
   "source": [
    "\n",
    "\n",
    "print 'You Selected: '\n",
    "print ', '.join([str(i) for (i) in a.value])\n",
    "print 'Status', denorm(df.Status)\n",
    "print 'Ideology', denorm(df.Ideology)\n",
    "print 'Conventionalism', denorm(df.Conventionalism)\n",
    "print 'Choice', denorm(df.Choice)\n"
   ]
  },
  {
   "cell_type": "code",
   "execution_count": null,
   "metadata": {
    "collapsed": true
   },
   "outputs": [],
   "source": [
    "a = ToggleButtons(\n",
    "    description='Speed:',\n",
    "    options=['Slow', 'Regular', 'Fast'],\n",
    ")\n",
    "\n",
    "b = ToggleButtons(\n",
    "    description='Speed:',\n",
    "    options=['Foo', 'Bar', 'Baz'],\n",
    ")"
   ]
  },
  {
   "cell_type": "code",
   "execution_count": null,
   "metadata": {
    "collapsed": false
   },
   "outputs": [],
   "source": []
  }
 ],
 "metadata": {
  "anaconda-cloud": {},
  "kernelspec": {
   "display_name": "Python [Root]",
   "language": "python",
   "name": "Python [Root]"
  },
  "language_info": {
   "codemirror_mode": {
    "name": "ipython",
    "version": 2
   },
   "file_extension": ".py",
   "mimetype": "text/x-python",
   "name": "python",
   "nbconvert_exporter": "python",
   "pygments_lexer": "ipython2",
   "version": "2.7.11"
  },
  "widgets": {
   "state": {
    "5f00b708b4e7487a8850d882dfb66254": {
     "views": [
      {
       "cell_index": 7
      }
     ]
    }
   },
   "version": "1.2.0"
  }
 },
 "nbformat": 4,
 "nbformat_minor": 0
}
